{
 "cells": [
  {
   "cell_type": "markdown",
   "id": "5440142e",
   "metadata": {},
   "source": [
    "## 0. Import Libaries"
   ]
  },
  {
   "cell_type": "code",
   "execution_count": 1,
   "id": "3f4abd4c",
   "metadata": {},
   "outputs": [
    {
     "name": "stderr",
     "output_type": "stream",
     "text": [
      "NOTE: Redirects are currently not supported in Windows or MacOs.\n"
     ]
    }
   ],
   "source": [
    "import numpy as np\n",
    "import os\n",
    "from PIL import Image\n",
    "%matplotlib inline\n",
    "import matplotlib.pyplot as plt\n",
    "import pandas as pd\n",
    "import cv2\n",
    "import datetime\n",
    "from functools import partial\n",
    "from glob import glob\n",
    "import math\n",
    "import multiprocessing\n",
    "from pathlib import Path\n",
    "import random\n",
    "from tqdm.auto import tqdm\n",
    "import skimage as ski\n",
    "\n",
    "\n",
    "import torch\n",
    "import torchvision\n",
    "from torch.amp import autocast # allows for differentr datatypes (torch.32/ torch.16)\n",
    "from torchvision import transforms as T\n",
    "from torchvision.models.detection.faster_rcnn import FastRCNNPredictor\n",
    "from torchvision.models.detection.mask_rcnn import MaskRCNNPredictor\n",
    "import torchvision.transforms.functional as F\n",
    "from torchvision.ops import masks_to_boxes\n",
    "from torch.utils.data import Dataset, DataLoader\n",
    "from torchtnt.utils import get_module_summary\n",
    "from torchvision.utils import draw_bounding_boxes, draw_segmentation_masks\n",
    "from cjm_pytorch_utils.core import pil_to_tensor, tensor_to_pil\n",
    "\n",
    "\n",
    "# Import Mask R-CNN\n",
    "from torchvision.models.detection import maskrcnn_resnet50_fpn_v2, MaskRCNN, maskrcnn_resnet50_fpn\n",
    "from torchvision.models.detection import MaskRCNN_ResNet50_FPN_V2_Weights, MaskRCNN_ResNet50_FPN_Weights\n",
    "\n",
    "from Mask_RCNN_load_data import load_images_from_folder, generate_index_list, load_masks_from_folder\n",
    "from Mask_RCNN_manage_targets import mask_to_2dim, mask_to_2dim_no_cv2, masks_2_dim_to_booleans, mask_to_box, cull_if_no_bulding\n",
    "from Mask_RCNN_manage_dataset import test_train_split, CustData, indexes_to_cull\n",
    "from Mask_RCNN_model import model_summarize, train"
   ]
  },
  {
   "cell_type": "code",
   "execution_count": 2,
   "id": "7e982223",
   "metadata": {},
   "outputs": [],
   "source": [
    "# set device\n",
    "device = \"cuda\"\n",
    "dtype = torch.float32\n",
    "torch.cuda.empty_cache()"
   ]
  },
  {
   "cell_type": "markdown",
   "id": "35374573",
   "metadata": {},
   "source": [
    "## 1. Load data"
   ]
  },
  {
   "cell_type": "code",
   "execution_count": 3,
   "id": "42c1a4a3",
   "metadata": {},
   "outputs": [],
   "source": [
    "# set up projects's directory\n",
    "# project's name\n",
    "project_name = f\"pytorch-buildings-maskrcnn\"\n",
    "\n",
    "# path for project's folder\n",
    "project_dir = Path(f\"/{project_name}/\")\n",
    "\n",
    "# create the project directory\n",
    "project_dir.mkdir(parents=True, exist_ok=True)"
   ]
  },
  {
   "cell_type": "code",
   "execution_count": 4,
   "id": "209e4643",
   "metadata": {},
   "outputs": [],
   "source": [
    "# maska and images directories\n",
    "\n",
    "images_dir = \"C:/Users/kubaw/Desktop/DELFT/CORE/satellite_predictions/Dataset2/Images/Destroyed\"  \n",
    "image_filenames = sorted(os.listdir(images_dir))\n",
    "\n",
    "mask_dir = \"C:/Users/kubaw/Desktop/DELFT/CORE/satellite_predictions/Dataset2/Masks/Destroyed\"  \n",
    "mask_filenames = sorted(os.listdir(mask_dir))"
   ]
  },
  {
   "cell_type": "code",
   "execution_count": 5,
   "id": "702e46f1",
   "metadata": {},
   "outputs": [],
   "source": [
    "# load imagesm transform to torch tensors and normalise\n",
    "image_tensors = load_images_from_folder(images_dir)"
   ]
  },
  {
   "cell_type": "code",
   "execution_count": 6,
   "id": "fdcdddbf",
   "metadata": {},
   "outputs": [],
   "source": [
    "idx = 0\n",
    "\n",
    "#img_tensor = image_tensors[idx]\n",
    "#plt.imshow(img_tensor.permute(1, 2, 0))\n",
    "#plt.show()"
   ]
  },
  {
   "cell_type": "code",
   "execution_count": 7,
   "id": "310020b1",
   "metadata": {},
   "outputs": [],
   "source": [
    "# load masks\n",
    "\n",
    "mask_arrays = load_masks_from_folder(mask_dir)"
   ]
  },
  {
   "cell_type": "markdown",
   "id": "559ae0f0",
   "metadata": {},
   "source": [
    "## 2. Transform masks"
   ]
  },
  {
   "cell_type": "code",
   "execution_count": 8,
   "id": "eedcfc38",
   "metadata": {},
   "outputs": [],
   "source": [
    "# make a 2dim torch tensor in form of 0 for background, 1 for undamaged, 2 for damaged\n",
    "masks_transformed = mask_to_2dim_no_cv2(mask_arrays)\n"
   ]
  },
  {
   "cell_type": "code",
   "execution_count": 9,
   "id": "2f647c11",
   "metadata": {},
   "outputs": [],
   "source": [
    "mask = mask_arrays[idx]\n",
    "#plt.imshow(mask)\n",
    "#plt.show()"
   ]
  },
  {
   "cell_type": "code",
   "execution_count": 10,
   "id": "1f146184",
   "metadata": {},
   "outputs": [
    {
     "data": {
      "text/plain": [
       "114"
      ]
     },
     "execution_count": 10,
     "metadata": {},
     "output_type": "execute_result"
    }
   ],
   "source": [
    "# cull images and masks with no buildings\n",
    "masks_culled, image_culled = cull_if_no_bulding(masks_transformed, image_tensors)\n",
    "\n",
    "masks_transformed, image_tensors = masks_culled.copy(), image_culled.copy()\n",
    "len(masks_transformed)"
   ]
  },
  {
   "cell_type": "code",
   "execution_count": 11,
   "id": "44705420",
   "metadata": {},
   "outputs": [
    {
     "data": {
      "image/png": "[encoded data removed]",
      "text/plain": [
       "<Figure size 640x480 with 1 Axes>"
      ]
     },
     "metadata": {},
     "output_type": "display_data"
    }
   ],
   "source": [
    "mask_t = masks_transformed[0]\n",
    "plt.imshow(mask_t)\n",
    "plt.show()\n"
   ]
  },
  {
   "cell_type": "code",
   "execution_count": 12,
   "id": "c18fdf3d",
   "metadata": {},
   "outputs": [],
   "source": [
    "# takes a list of 2dim torch tensor ans transformes into list of boolean arrays for each instance\n",
    "masks_binary = masks_2_dim_to_booleans(masks_transformed)\n"
   ]
  },
  {
   "cell_type": "code",
   "execution_count": 13,
   "id": "0fb099f2",
   "metadata": {},
   "outputs": [],
   "source": [
    "# make image ids(torch tensors)\n",
    "image_ids = generate_index_list(image_tensors)"
   ]
  },
  {
   "cell_type": "code",
   "execution_count": 14,
   "id": "80dfceb8",
   "metadata": {},
   "outputs": [],
   "source": [
    "# display image with masks\n",
    "\n",
    "image = image_tensors[idx]\n",
    "mask = masks_binary[idx]\n",
    "draw_mask = draw_segmentation_masks( \n",
    "    image=(image*255).to(dtype=torch.uint8), \n",
    "    masks=mask, \n",
    "    alpha=0.3,\n",
    ")\n",
    "\n",
    "#plt.imshow(draw_mask.permute(1, 2, 0))\n",
    "#plt.show()"
   ]
  },
  {
   "cell_type": "markdown",
   "id": "9c7dff19",
   "metadata": {},
   "source": [
    "## 3. Create bounding boxes with labels"
   ]
  },
  {
   "cell_type": "code",
   "execution_count": 15,
   "id": "846bafc5",
   "metadata": {},
   "outputs": [
    {
     "name": "stdout",
     "output_type": "stream",
     "text": [
      "tensor([[ 0., 24.,  7., 39.],\n",
      "        [36., 50., 52., 63.],\n",
      "        [51., 57., 63., 63.],\n",
      "        [ 0., 26., 43., 63.]]) tensor([1, 1, 1, 2])\n"
     ]
    }
   ],
   "source": [
    "#  tuple of bounding boxes, tuple of boxes labels\n",
    "labeled_boxes = mask_to_box(masks_transformed)\n",
    "boxes, labels = labeled_boxes\n",
    "print(boxes[idx], labels[idx])"
   ]
  },
  {
   "cell_type": "markdown",
   "id": "87e99933",
   "metadata": {},
   "source": [
    "## 4. Concatinate data"
   ]
  },
  {
   "cell_type": "code",
   "execution_count": 16,
   "id": "a132f842",
   "metadata": {},
   "outputs": [],
   "source": [
    "# finds mismathed number of masks, boxes or labels for each index\n",
    "indexes_to_cull = indexes_to_cull(boxes, masks_binary, labels)"
   ]
  },
  {
   "cell_type": "code",
   "execution_count": 17,
   "id": "378d8aa2",
   "metadata": {},
   "outputs": [],
   "source": [
    "# delete the indexes from indexes to cull\n",
    "image_tensors_ = [item for i, item in enumerate(image_tensors) if i not in indexes_to_cull]\n",
    "masks_binary_ = [item for i, item in enumerate(masks_binary) if i not in indexes_to_cull]\n",
    "boxes_ = [item for i, item in enumerate(boxes) if i not in indexes_to_cull]\n",
    "labels_ = [item for i, item in enumerate(labels) if i not in indexes_to_cull]\n",
    "\n",
    "# make image ids\n",
    "image_ids_ = generate_index_list(image_tensors_)\n"
   ]
  },
  {
   "cell_type": "code",
   "execution_count": 18,
   "id": "cdbe6370",
   "metadata": {},
   "outputs": [],
   "source": [
    "# test/ train split\n",
    "train_images, test_images = test_train_split(image_tensors_)\n",
    "train_masks, test_masks = test_train_split(masks_binary_)\n",
    "train_boxes, test_boxes = test_train_split(boxes_)\n",
    "train_labels, test_labels = test_train_split(labels_)\n",
    "train_ids, test_ids = test_train_split(image_ids_)"
   ]
  },
  {
   "cell_type": "code",
   "execution_count": 19,
   "id": "3fdf4df9",
   "metadata": {},
   "outputs": [
    {
     "data": {
      "text/plain": [
       "55"
      ]
     },
     "execution_count": 19,
     "metadata": {},
     "output_type": "execute_result"
    }
   ],
   "source": [
    "# make a custom dataset\n",
    "train_dataset = CustData(train_images, train_masks, train_boxes, train_labels, train_ids)\n",
    "test_dataset = CustData(test_images, test_masks, test_boxes, test_labels, test_ids)\n",
    "len(train_dataset)"
   ]
  },
  {
   "cell_type": "code",
   "execution_count": 20,
   "id": "9eb3a9a0",
   "metadata": {},
   "outputs": [
    {
     "data": {
      "image/png": "[encoded data removed]",
      "text/plain": [
       "<Figure size 640x480 with 1 Axes>"
      ]
     },
     "metadata": {},
     "output_type": "display_data"
    }
   ],
   "source": [
    "dataset_sample = train_dataset[idx]\n",
    "\n",
    "# Annotate the sample image with segmentation masks\n",
    "annotated_tensor = draw_segmentation_masks( \n",
    "    image=(dataset_sample[0]*255).to(dtype=torch.uint8), \n",
    "    masks=dataset_sample[1]['masks'], \n",
    "    alpha=0.3,\n",
    ")\n",
    "\n",
    "# Annotate the sample image with bounding boxes\n",
    "annotated_tensor = draw_bounding_boxes(\n",
    "    image=annotated_tensor, \n",
    "    boxes=dataset_sample[1]['boxes'],\n",
    ")\n",
    "\n",
    "tensor_to_pil(annotated_tensor)\n",
    "plt.imshow(annotated_tensor.permute(1, 2, 0))\n",
    "plt.show()"
   ]
  },
  {
   "cell_type": "markdown",
   "id": "2ea0f349",
   "metadata": {},
   "source": [
    "## 5. Make Dataloaders"
   ]
  },
  {
   "cell_type": "code",
   "execution_count": 21,
   "id": "42189cbb",
   "metadata": {},
   "outputs": [
    {
     "data": {
      "text/html": [
       "<style type=\"text/css\">\n",
       "</style>\n",
       "<table id=\"T_a4479\">\n",
       "  <thead>\n",
       "  </thead>\n",
       "  <tbody>\n",
       "    <tr>\n",
       "      <th id=\"T_a4479_level0_row0\" class=\"row_heading level0 row0\" >Number of batches in train DataLoader:</th>\n",
       "      <td id=\"T_a4479_row0_col0\" class=\"data row0 col0\" >14</td>\n",
       "    </tr>\n",
       "    <tr>\n",
       "      <th id=\"T_a4479_level0_row1\" class=\"row_heading level0 row1\" >Number of batches in validation DataLoader:</th>\n",
       "      <td id=\"T_a4479_row1_col0\" class=\"data row1 col0\" >4</td>\n",
       "    </tr>\n",
       "  </tbody>\n",
       "</table>\n"
      ],
      "text/plain": [
       "<pandas.io.formats.style.Styler at 0x2020b0d0730>"
      ]
     },
     "execution_count": 21,
     "metadata": {},
     "output_type": "execute_result"
    }
   ],
   "source": [
    "# Set the training batch size\n",
    "bs = 4\n",
    "\n",
    "# Set the number of worker processes for loading data ! multiprocessing.cpu_count()//2 !\n",
    "num_workers = 0\n",
    "\n",
    "# collatr function specifies the way data sticks together in a batch\n",
    "def collate_fn(batch):\n",
    "    return tuple(zip(*batch))\n",
    "\n",
    "def custom_collate(data):\n",
    "  return data\n",
    "\n",
    "# Define parameters for DataLoader\n",
    "data_loader_params = {\n",
    "    'batch_size': bs,  # Batch size for data loading\n",
    "    'num_workers': num_workers,  # Number of subprocesses to use for data loading\n",
    "    'collate_fn': custom_collate,\n",
    "    'pin_memory': True,\n",
    "    'pin_memory_device': device\n",
    "}\n",
    "\n",
    "# Create DataLoader for training data. Data is shuffled for every epoch.\n",
    "train_dataloader = DataLoader(train_dataset, **data_loader_params, shuffle=True)\n",
    "\n",
    "# Create DataLoader for validation data. Shuffling is not necessary for validation data.\n",
    "test_dataloader = DataLoader(test_dataset, **data_loader_params)\n",
    "\n",
    "\n",
    "pd.Series({\n",
    "    'Number of batches in train DataLoader:': len(train_dataloader),\n",
    "    'Number of batches in validation DataLoader:': len(test_dataloader)}\n",
    ").to_frame().style.hide(axis='columns')\n",
    "\n",
    "\n",
    "#next(iter(train_dataloader))"
   ]
  },
  {
   "cell_type": "markdown",
   "id": "4dab01e9",
   "metadata": {},
   "source": [
    "## 6. Loading the Mask R-CNN Model"
   ]
  },
  {
   "cell_type": "code",
   "execution_count": 22,
   "id": "310eadaa",
   "metadata": {},
   "outputs": [],
   "source": [
    "classes = 3\n",
    "\n",
    "# Initialize a Mask R-CNN model with pretrained weights\n",
    "model = torchvision.models.detection.maskrcnn_resnet50_fpn()\n",
    "\n",
    "# Get the number of input features for the classifier\n",
    "in_features_box = model.roi_heads.box_predictor.cls_score.in_features\n",
    "in_features_mask = model.roi_heads.mask_predictor.conv5_mask.in_channels\n",
    "\n",
    "# Get the numbner of output channels for the Mask Predictor\n",
    "dim_reduced = model.roi_heads.mask_predictor.conv5_mask.out_channels\n",
    "\n",
    "# Replace the box predictor\n",
    "model.roi_heads.box_predictor = FastRCNNPredictor(in_channels=in_features_box, num_classes=classes)\n",
    "\n",
    "# Replace the mask predictor\n",
    "model.roi_heads.mask_predictor = MaskRCNNPredictor(in_channels=in_features_mask, dim_reduced=dim_reduced, num_classes=classes)"
   ]
  },
  {
   "cell_type": "code",
   "execution_count": 23,
   "id": "ca0bf074",
   "metadata": {},
   "outputs": [],
   "source": [
    "# Set the model's device and data type\n",
    "model.to(device=device, dtype=dtype);\n",
    "\n",
    "# Add attributes to store the device and model name for later reference\n",
    "model.device = device\n",
    "model.name = 'maskrcnn_resnet50_fpn'"
   ]
  },
  {
   "cell_type": "code",
   "execution_count": 24,
   "id": "21978073",
   "metadata": {},
   "outputs": [
    {
     "name": "stderr",
     "output_type": "stream",
     "text": [
      "C:\\Users\\kubaw\\miniforge3\\envs\\pytorch-env\\lib\\site-packages\\torchtnt\\utils\\module_summary.py:271: UserWarning: Backward FLOPs are only computed if module foward returns a tensor.\n",
      "  warnings.warn(\n"
     ]
    },
    {
     "data": {
      "text/html": [
       "<div>\n",
       "<style scoped>\n",
       "    .dataframe tbody tr th:only-of-type {\n",
       "        vertical-align: middle;\n",
       "    }\n",
       "\n",
       "    .dataframe tbody tr th {\n",
       "        vertical-align: top;\n",
       "    }\n",
       "\n",
       "    .dataframe thead th {\n",
       "        text-align: right;\n",
       "    }\n",
       "</style>\n",
       "<table border=\"1\" class=\"dataframe\">\n",
       "  <thead>\n",
       "    <tr style=\"text-align: right;\">\n",
       "      <th></th>\n",
       "      <th>Type</th>\n",
       "      <th># Parameters</th>\n",
       "      <th># Trainable Parameters</th>\n",
       "      <th>Size (bytes)</th>\n",
       "      <th>Forward FLOPs</th>\n",
       "    </tr>\n",
       "  </thead>\n",
       "  <tbody>\n",
       "    <tr>\n",
       "      <th>0</th>\n",
       "      <td>MaskRCNN</td>\n",
       "      <td>43.9 M</td>\n",
       "      <td>43.7 M</td>\n",
       "      <td>176 M</td>\n",
       "      <td>185 G</td>\n",
       "    </tr>\n",
       "  </tbody>\n",
       "</table>\n",
       "</div>"
      ],
      "text/plain": [
       "       Type # Parameters # Trainable Parameters Size (bytes) Forward FLOPs\n",
       "0  MaskRCNN       43.9 M                 43.7 M        176 M         185 G"
      ]
     },
     "execution_count": 24,
     "metadata": {},
     "output_type": "execute_result"
    }
   ],
   "source": [
    "model_summarize(model, device)"
   ]
  },
  {
   "cell_type": "markdown",
   "id": "9c1b08b8",
   "metadata": {},
   "source": [
    "## 7. Fine-tuning the model"
   ]
  },
  {
   "cell_type": "code",
   "execution_count": 25,
   "id": "dc2616bc",
   "metadata": {},
   "outputs": [
    {
     "name": "stdout",
     "output_type": "stream",
     "text": [
      "\\pytorch-buildings-maskrcnn\\2023-11-09_12-03-16\\maskrcnn_resnet50_fpn.pth\n"
     ]
    }
   ],
   "source": [
    "# Generate timestamp for the training session (Year-Month-Day_Hour_Minute_Second)\n",
    "timestamp = datetime.datetime.now().strftime(\"%Y-%m-%d_%H-%M-%S\")\n",
    "\n",
    "# Create a directory to store the checkpoints if it does not already exist\n",
    "checkpoint_dir = Path(project_dir/f\"{timestamp}\")\n",
    "\n",
    "# Create the checkpoint directory if it does not already exist\n",
    "checkpoint_dir.mkdir(parents=True, exist_ok=True)\n",
    "\n",
    "# The model checkpoint path\n",
    "checkpoint_path = checkpoint_dir/f\"{model.name}.pth\"\n",
    "\n",
    "print(checkpoint_path)"
   ]
  },
  {
   "cell_type": "code",
   "execution_count": 26,
   "id": "dc69eb23",
   "metadata": {},
   "outputs": [],
   "source": [
    "# Number of training epochs\n",
    "epochs = 10\n",
    "\n",
    "# Learning rate for the model\n",
    "lr = 5e-4\n",
    "\n",
    "# AdamW optimizer; includes weight decay for regularization\n",
    "optimizer = torch.optim.AdamW(model.parameters(), lr=lr)"
   ]
  },
  {
   "cell_type": "markdown",
   "id": "25036a35",
   "metadata": {},
   "source": [
    "## 8. Train!"
   ]
  },
  {
   "cell_type": "code",
   "execution_count": 27,
   "id": "73203c92",
   "metadata": {},
   "outputs": [
    {
     "name": "stdout",
     "output_type": "stream",
     "text": [
      "{'loss_classifier': tensor(1.1233, device='cuda:0', grad_fn=<NllLossBackward0>), 'loss_box_reg': tensor(0.0367, device='cuda:0', grad_fn=<DivBackward0>), 'loss_mask': tensor(1.2417, device='cuda:0',\n",
      "       grad_fn=<BinaryCrossEntropyWithLogitsBackward0>), 'loss_objectness': tensor(0.6951, device='cuda:0',\n",
      "       grad_fn=<BinaryCrossEntropyWithLogitsBackward0>), 'loss_rpn_box_reg': tensor(0.0324, device='cuda:0', grad_fn=<DivBackward0>)}\n",
      "epoch: 0    training loss 25.53497862815857    validation loss: 5.5090651512146\n",
      "epoch: 1    training loss 17.457631289958954    validation loss: 5.0453274846076965\n",
      "epoch: 2    training loss 15.80670714378357    validation loss: 6.079392194747925\n"
     ]
    },
    {
     "ename": "OutOfMemoryError",
     "evalue": "CUDA out of memory. Tried to allocate 158.00 MiB (GPU 0; 4.00 GiB total capacity; 2.87 GiB already allocated; 0 bytes free; 3.30 GiB reserved in total by PyTorch) If reserved memory is >> allocated memory try setting max_split_size_mb to avoid fragmentation.  See documentation for Memory Management and PYTORCH_CUDA_ALLOC_CONF",
     "output_type": "error",
     "traceback": [
      "\u001b[1;31m---------------------------------------------------------------------------\u001b[0m",
      "\u001b[1;31mOutOfMemoryError\u001b[0m                          Traceback (most recent call last)",
      "Cell \u001b[1;32mIn[27], line 1\u001b[0m\n\u001b[1;32m----> 1\u001b[0m model_results \u001b[38;5;241m=\u001b[39m \u001b[43mtrain\u001b[49m\u001b[43m(\u001b[49m\u001b[43mmodel\u001b[49m\u001b[43m \u001b[49m\u001b[38;5;241;43m=\u001b[39;49m\u001b[43m \u001b[49m\u001b[43mmodel\u001b[49m\u001b[43m,\u001b[49m\n\u001b[0;32m      2\u001b[0m \u001b[43m                \u001b[49m\u001b[43mtrain_dataloader\u001b[49m\u001b[43m \u001b[49m\u001b[38;5;241;43m=\u001b[39;49m\u001b[43m \u001b[49m\u001b[43mtrain_dataloader\u001b[49m\u001b[43m,\u001b[49m\n\u001b[0;32m      3\u001b[0m \u001b[43m                \u001b[49m\u001b[43mtest_dataloader\u001b[49m\u001b[43m \u001b[49m\u001b[38;5;241;43m=\u001b[39;49m\u001b[43m \u001b[49m\u001b[43mtest_dataloader\u001b[49m\u001b[43m,\u001b[49m\n\u001b[0;32m      4\u001b[0m \u001b[43m                \u001b[49m\u001b[43mepochs\u001b[49m\u001b[43m \u001b[49m\u001b[38;5;241;43m=\u001b[39;49m\u001b[43m \u001b[49m\u001b[43mepochs\u001b[49m\u001b[43m,\u001b[49m\n\u001b[0;32m      5\u001b[0m \u001b[43m                \u001b[49m\u001b[43mbs\u001b[49m\u001b[43m \u001b[49m\u001b[38;5;241;43m=\u001b[39;49m\u001b[43m \u001b[49m\u001b[43mbs\u001b[49m\u001b[43m,\u001b[49m\n\u001b[0;32m      6\u001b[0m \u001b[43m                \u001b[49m\u001b[43mdevice\u001b[49m\u001b[43m \u001b[49m\u001b[38;5;241;43m=\u001b[39;49m\u001b[43m \u001b[49m\u001b[43mdevice\u001b[49m\u001b[43m,\u001b[49m\n\u001b[0;32m      7\u001b[0m \u001b[43m                \u001b[49m\u001b[43moptimizer\u001b[49m\u001b[38;5;241;43m=\u001b[39;49m\u001b[43moptimizer\u001b[49m\u001b[43m)\u001b[49m\n",
      "File \u001b[1;32m~\\Desktop\\DELFT\\CORE\\Mask_RCNN\\Mask_RCNN_model.py:98\u001b[0m, in \u001b[0;36mtrain\u001b[1;34m(model, train_dataloader, test_dataloader, epochs, bs, device, optimizer)\u001b[0m\n\u001b[0;32m     95\u001b[0m optimizer\u001b[38;5;241m.\u001b[39mzero_grad()\n\u001b[0;32m     97\u001b[0m \u001b[38;5;66;03m# backpropagation\u001b[39;00m\n\u001b[1;32m---> 98\u001b[0m \u001b[43mlosses\u001b[49m\u001b[38;5;241;43m.\u001b[39;49m\u001b[43mbackward\u001b[49m\u001b[43m(\u001b[49m\u001b[43m)\u001b[49m\n\u001b[0;32m    100\u001b[0m \u001b[38;5;66;03m# optimize weights and biases\u001b[39;00m\n\u001b[0;32m    101\u001b[0m optimizer\u001b[38;5;241m.\u001b[39mstep()\n",
      "File \u001b[1;32m~\\miniforge3\\envs\\pytorch-env\\lib\\site-packages\\torch\\_tensor.py:487\u001b[0m, in \u001b[0;36mTensor.backward\u001b[1;34m(self, gradient, retain_graph, create_graph, inputs)\u001b[0m\n\u001b[0;32m    477\u001b[0m \u001b[38;5;28;01mif\u001b[39;00m has_torch_function_unary(\u001b[38;5;28mself\u001b[39m):\n\u001b[0;32m    478\u001b[0m     \u001b[38;5;28;01mreturn\u001b[39;00m handle_torch_function(\n\u001b[0;32m    479\u001b[0m         Tensor\u001b[38;5;241m.\u001b[39mbackward,\n\u001b[0;32m    480\u001b[0m         (\u001b[38;5;28mself\u001b[39m,),\n\u001b[1;32m   (...)\u001b[0m\n\u001b[0;32m    485\u001b[0m         inputs\u001b[38;5;241m=\u001b[39minputs,\n\u001b[0;32m    486\u001b[0m     )\n\u001b[1;32m--> 487\u001b[0m \u001b[43mtorch\u001b[49m\u001b[38;5;241;43m.\u001b[39;49m\u001b[43mautograd\u001b[49m\u001b[38;5;241;43m.\u001b[39;49m\u001b[43mbackward\u001b[49m\u001b[43m(\u001b[49m\n\u001b[0;32m    488\u001b[0m \u001b[43m    \u001b[49m\u001b[38;5;28;43mself\u001b[39;49m\u001b[43m,\u001b[49m\u001b[43m \u001b[49m\u001b[43mgradient\u001b[49m\u001b[43m,\u001b[49m\u001b[43m \u001b[49m\u001b[43mretain_graph\u001b[49m\u001b[43m,\u001b[49m\u001b[43m \u001b[49m\u001b[43mcreate_graph\u001b[49m\u001b[43m,\u001b[49m\u001b[43m \u001b[49m\u001b[43minputs\u001b[49m\u001b[38;5;241;43m=\u001b[39;49m\u001b[43minputs\u001b[49m\n\u001b[0;32m    489\u001b[0m \u001b[43m\u001b[49m\u001b[43m)\u001b[49m\n",
      "File \u001b[1;32m~\\miniforge3\\envs\\pytorch-env\\lib\\site-packages\\torch\\autograd\\__init__.py:200\u001b[0m, in \u001b[0;36mbackward\u001b[1;34m(tensors, grad_tensors, retain_graph, create_graph, grad_variables, inputs)\u001b[0m\n\u001b[0;32m    195\u001b[0m     retain_graph \u001b[38;5;241m=\u001b[39m create_graph\n\u001b[0;32m    197\u001b[0m \u001b[38;5;66;03m# The reason we repeat same the comment below is that\u001b[39;00m\n\u001b[0;32m    198\u001b[0m \u001b[38;5;66;03m# some Python versions print out the first line of a multi-line function\u001b[39;00m\n\u001b[0;32m    199\u001b[0m \u001b[38;5;66;03m# calls in the traceback and some print out the last line\u001b[39;00m\n\u001b[1;32m--> 200\u001b[0m \u001b[43mVariable\u001b[49m\u001b[38;5;241;43m.\u001b[39;49m\u001b[43m_execution_engine\u001b[49m\u001b[38;5;241;43m.\u001b[39;49m\u001b[43mrun_backward\u001b[49m\u001b[43m(\u001b[49m\u001b[43m  \u001b[49m\u001b[38;5;66;43;03m# Calls into the C++ engine to run the backward pass\u001b[39;49;00m\n\u001b[0;32m    201\u001b[0m \u001b[43m    \u001b[49m\u001b[43mtensors\u001b[49m\u001b[43m,\u001b[49m\u001b[43m \u001b[49m\u001b[43mgrad_tensors_\u001b[49m\u001b[43m,\u001b[49m\u001b[43m \u001b[49m\u001b[43mretain_graph\u001b[49m\u001b[43m,\u001b[49m\u001b[43m \u001b[49m\u001b[43mcreate_graph\u001b[49m\u001b[43m,\u001b[49m\u001b[43m \u001b[49m\u001b[43minputs\u001b[49m\u001b[43m,\u001b[49m\n\u001b[0;32m    202\u001b[0m \u001b[43m    \u001b[49m\u001b[43mallow_unreachable\u001b[49m\u001b[38;5;241;43m=\u001b[39;49m\u001b[38;5;28;43;01mTrue\u001b[39;49;00m\u001b[43m,\u001b[49m\u001b[43m \u001b[49m\u001b[43maccumulate_grad\u001b[49m\u001b[38;5;241;43m=\u001b[39;49m\u001b[38;5;28;43;01mTrue\u001b[39;49;00m\u001b[43m)\u001b[49m\n",
      "\u001b[1;31mOutOfMemoryError\u001b[0m: CUDA out of memory. Tried to allocate 158.00 MiB (GPU 0; 4.00 GiB total capacity; 2.87 GiB already allocated; 0 bytes free; 3.30 GiB reserved in total by PyTorch) If reserved memory is >> allocated memory try setting max_split_size_mb to avoid fragmentation.  See documentation for Memory Management and PYTORCH_CUDA_ALLOC_CONF"
     ]
    }
   ],
   "source": [
    "model_results = train(model = model,\n",
    "                train_dataloader = train_dataloader,\n",
    "                test_dataloader = test_dataloader,\n",
    "                epochs = epochs,\n",
    "                bs = bs,\n",
    "                device = device,\n",
    "                optimizer=optimizer)"
   ]
  },
  {
   "cell_type": "code",
   "execution_count": 26,
   "id": "d8cc3af6",
   "metadata": {},
   "outputs": [],
   "source": [
    "FILE = \"model.pth\"\n",
    "torch.save(model, f\"C:/Users/kubaw/Desktop/DELFT/CORE/{FILE}\")\n"
   ]
  },
  {
   "cell_type": "code",
   "execution_count": 27,
   "id": "0545d3fe",
   "metadata": {},
   "outputs": [],
   "source": [
    "training_losses, validation_losses = model_results"
   ]
  },
  {
   "cell_type": "code",
   "execution_count": 28,
   "id": "d8103b2c",
   "metadata": {},
   "outputs": [
    {
     "data": {
      "text/plain": [
       "[<matplotlib.lines.Line2D at 0x2170d73e020>]"
      ]
     },
     "execution_count": 28,
     "metadata": {},
     "output_type": "execute_result"
    },
    {
     "data": {
      "image/png": "[encoded data removed]",
      "text/plain": [
       "<Figure size 640x480 with 1 Axes>"
      ]
     },
     "metadata": {},
     "output_type": "display_data"
    }
   ],
   "source": [
    "plt.plot(training_losses)"
   ]
  },
  {
   "cell_type": "code",
   "execution_count": 29,
   "id": "5ec89d17",
   "metadata": {},
   "outputs": [
    {
     "data": {
      "text/plain": [
       "[<matplotlib.lines.Line2D at 0x2170b246140>]"
      ]
     },
     "execution_count": 29,
     "metadata": {},
     "output_type": "execute_result"
    },
    {
     "data": {
      "image/png": "[encoded data removed]",
      "text/plain": [
       "<Figure size 640x480 with 1 Axes>"
      ]
     },
     "metadata": {},
     "output_type": "display_data"
    }
   ],
   "source": [
    "plt.plot(validation_losses)"
   ]
  },
  {
   "cell_type": "code",
   "execution_count": 36,
   "id": "255af89f",
   "metadata": {},
   "outputs": [],
   "source": [
    "# test the predictions on a random image \n",
    "\n",
    "images_dir = \"C:/Users/kubaw/Desktop/DELFT/CORE/satellite_predictions/Dataset2/Images/Destroyed\"  \n",
    "image_filenames = sorted(os.listdir(images_dir))\n",
    "\n",
    "def load_images_from_folder(images_dir):\n",
    "    images = []\n",
    "    for filename in os.listdir(images_dir):\n",
    "        if filename.endswith('.jpeg'):\n",
    "            img = Image.open(os.path.join(images_dir, filename))\n",
    "            images.append(img)\n",
    "    return images\n",
    "\n",
    "images_test = load_images_from_folder(images_dir)"
   ]
  },
  {
   "cell_type": "code",
   "execution_count": 37,
   "id": "18847f86",
   "metadata": {},
   "outputs": [],
   "source": [
    "# model into inference mode\n",
    "model.eval()\n",
    "model.to(device)\n",
    "transform = T.Compose([T.ToTensor()])\n",
    "\n",
    "im_test = images_test[20]\n",
    "input_tensor = transform(im_test).to(device)  # Move the input tensor to the same device as the model\n",
    "\n",
    "with torch.no_grad():\n",
    "    pred = model(input_tensor.unsqueeze(0))  \n",
    "    "
   ]
  },
  {
   "cell_type": "code",
   "execution_count": 38,
   "id": "f5f4da09",
   "metadata": {},
   "outputs": [
    {
     "data": {
      "image/png": "[encoded data removed]",
      "text/plain": [
       "<PIL.JpegImagePlugin.JpegImageFile image mode=RGB size=64x64>"
      ]
     },
     "execution_count": 38,
     "metadata": {},
     "output_type": "execute_result"
    }
   ],
   "source": [
    "im_test"
   ]
  },
  {
   "cell_type": "code",
   "execution_count": 39,
   "id": "f1f1368d",
   "metadata": {},
   "outputs": [
    {
     "data": {
      "text/plain": [
       "<matplotlib.image.AxesImage at 0x24e0d866440>"
      ]
     },
     "execution_count": 39,
     "metadata": {},
     "output_type": "execute_result"
    },
    {
     "data": {
      "image/png": "[encoded data removed]",
      "text/plain": [
       "<Figure size 640x480 with 1 Axes>"
      ]
     },
     "metadata": {},
     "output_type": "display_data"
    }
   ],
   "source": [
    "plt.imshow((pred[0][\"masks\"][0].cpu().detach().numpy() * 255).astype(\"uint8\").squeeze())"
   ]
  }
 ],
 "metadata": {
  "kernelspec": {
   "display_name": "Python 3 (ipykernel)",
   "language": "python",
   "name": "python3"
  },
  "language_info": {
   "codemirror_mode": {
    "name": "ipython",
    "version": 3
   },
   "file_extension": ".py",
   "mimetype": "text/x-python",
   "name": "python",
   "nbconvert_exporter": "python",
   "pygments_lexer": "ipython3",
   "version": "3.10.13"
  }
 },
 "nbformat": 4,
 "nbformat_minor": 5
}
