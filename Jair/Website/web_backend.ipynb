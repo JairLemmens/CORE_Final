{
 "cells": [
  {
   "cell_type": "code",
   "execution_count": 1,
   "metadata": {},
   "outputs": [],
   "source": [
    "import os\n",
    "import gradio as gr\n",
    "import plotly.graph_objects as go\n",
    "import numpy as np\n",
    "import geopandas as gp\n",
    "import pandas as pd\n",
    "import json\n",
    "import shapely\n",
    "from PIL import Image"
   ]
  },
  {
   "cell_type": "code",
   "execution_count": 2,
   "metadata": {},
   "outputs": [],
   "source": [
    "#importing and processing the data\n",
    "temp_tot = gp.GeoDataFrame(pd.concat([gp.read_file(f'./geojsons/{filename}') for filename in os.listdir('./geojsons')],ignore_index=True))\n",
    "temp_tot['Building Name'] = np.arange(len(temp_tot))\n",
    "temp_tot['Area (m²)'] = round(temp_tot['Area (m²)'])\n",
    "temp_tot['Number of Stories'] = (temp_tot['Number of Stories']).astype(int)\n",
    "\n",
    "#In the production version this would be labeled by the artificial intelligence\n",
    "destroyed = temp_tot[temp_tot['Damage Level']==4]\n",
    "\n",
    "\"\"\"\n",
    "adding a default image, in the production version this would also be provided by the dataset.\n",
    "For moral reasons i decided not to fill this with more than one image of destroyed buildings since they are peoples homes.\n",
    "\"\"\"\n",
    "destroyed = destroyed.assign(image=Image.open('./damaged_house.png'))"
   ]
  },
  {
   "cell_type": "code",
   "execution_count": 3,
   "metadata": {},
   "outputs": [],
   "source": [
    "#load polygons for the turkish administrative borders\n",
    "with open('turkey_704.geojson') as file:\n",
    "    districts_json = json.load(file)\n",
    "districts = gp.read_file('turkey_704.geojson')\n",
    "\n",
    "districts['num_buildings'] = 0 \n",
    "#edit the coordinates because the x and y are flipped in the districts\n",
    "_coords = destroyed.geometry.apply(lambda geom: shapely.ops.transform(lambda x, y: (y, x), geom))\n",
    "for n,district in enumerate(districts.geometry):\n",
    "    #count amount of destroyed buildings in each district\n",
    "    n_buildings = sum(district.contains(_coords))\n",
    "    if n_buildings != 0:\n",
    "        districts.loc[n,'num_buildings'] = n_buildings"
   ]
  },
  {
   "cell_type": "code",
   "execution_count": 4,
   "metadata": {},
   "outputs": [
    {
     "name": "stdout",
     "output_type": "stream",
     "text": [
      "Running on local URL:  http://127.0.0.1:7880\n",
      "\n",
      "To create a public link, set `share=True` in `launch()`.\n"
     ]
    },
    {
     "data": {
      "text/html": [
       "<div><iframe src=\"http://127.0.0.1:7880/\" width=\"100%\" height=\"500\" allow=\"autoplay; camera; microphone; clipboard-read; clipboard-write;\" frameborder=\"0\" allowfullscreen></iframe></div>"
      ],
      "text/plain": [
       "<IPython.core.display.HTML object>"
      ]
     },
     "metadata": {},
     "output_type": "display_data"
    }
   ],
   "source": [
    "layout = go.Layout(autosize=False,width=600,height=600)\n",
    "fig = go.Figure(layout=layout)\n",
    "\n",
    "fig.add_trace(go.Scattermapbox(\n",
    "            name='Destroyed',\n",
    "            customdata=destroyed[['Occupants','Area (m²)','Construction Type','Building Name']].values.tolist(),\n",
    "            lat=destroyed['geometry'].x,\n",
    "            lon=destroyed['geometry'].y,\n",
    "            mode='markers',\n",
    "            marker=go.scattermapbox.Marker(\n",
    "                size=10,\n",
    "                opacity = 1,\n",
    "                color = 'red',\n",
    "            ),\n",
    "            hovertemplate='<b>ID</b>: %{customdata[3]}<br><b>Expected occupancy</b>: %{customdata[0]}<br><b>Area</b>: %{customdata[1]}m<sup>2</sup><br><b>Contruction material</b>: %{customdata[2]}',\n",
    "            ),\n",
    "            )\n",
    "\n",
    "fig.update_layout(\n",
    "    mapbox_style=\"open-street-map\",\n",
    "    hovermode='closest',\n",
    "    hoverdistance =100,\n",
    "    mapbox=dict(\n",
    "        bearing=0,\n",
    "        center=go.layout.mapbox.Center(\n",
    "            lat= 37,\n",
    "            lon=36\n",
    "        ),\n",
    "        pitch=5,\n",
    "        zoom=7\n",
    "    \n",
    "    )\n",
    ")\n",
    "\n",
    "with gr.Blocks() as regionmap:\n",
    "    map = gr.Plot(fig,scale=2,container=False)\n",
    "    regionmap.launch(server_port=7880) "
   ]
  },
  {
   "cell_type": "code",
   "execution_count": 5,
   "metadata": {},
   "outputs": [],
   "source": [
    "analysis_images = [Image.open(f'./veronique_analysis/{filename}') for filename in os.listdir('./veronique_analysis')]"
   ]
  },
  {
   "cell_type": "code",
   "execution_count": 6,
   "metadata": {},
   "outputs": [
    {
     "name": "stdout",
     "output_type": "stream",
     "text": [
      "Running on local URL:  http://127.0.0.1:7881\n",
      "\n",
      "To create a public link, set `share=True` in `launch()`.\n"
     ]
    },
    {
     "data": {
      "text/html": [
       "<div><iframe src=\"http://127.0.0.1:7881/\" width=\"100%\" height=\"500\" allow=\"autoplay; camera; microphone; clipboard-read; clipboard-write;\" frameborder=\"0\" allowfullscreen></iframe></div>"
      ],
      "text/plain": [
       "<IPython.core.display.HTML object>"
      ]
     },
     "metadata": {},
     "output_type": "display_data"
    },
    {
     "data": {
      "text/plain": []
     },
     "execution_count": 6,
     "metadata": {},
     "output_type": "execute_result"
    }
   ],
   "source": [
    "def get_image(id):\n",
    "    return(destroyed.loc[int(id)].image.resize((400,400)))\n",
    "def get_data(id):\n",
    "    _data = destroyed.loc[id][['Building Name','Occupants','Area (m²)','Construction Type','Number of Stories','Hazardous materials','Construction Year']]\n",
    "    html = '<b>Occupancy</b>: %i <b>Area</b>: %im<sup>2</sup><br> <b>Primary construction material</b>: %s <b>Number of Stories</b>: %s <br><b>Hazardous materials</b>: %s <b>Construction Year</b>: %s' % (_data[1],_data[2],_data[3],_data[4], _data[5], _data[6])\n",
    "    return(html)\n",
    "\n",
    "with gr.Blocks() as information:\n",
    "    with gr.Tab('Analysis'):\n",
    "        gr.Gallery(value=analysis_images,columns=1,object_fit='contain',preview=True)\n",
    "    with gr.Tab('Building information'):\n",
    "        with gr.Column():\n",
    "            id = gr.Dropdown(label='Building ID',choices=destroyed['Building Name'].tolist())\n",
    "            info = gr.HTML(value=('<b>Occupancy</b>: __ <b>Area</b>: __m<sup>2</sup><br> <b>Primary construction material</b>: __ <b>Number of Stories</b>: __ <br><b>Hazardous materials</b>: __ <b>Construction Year</b>: __'))\n",
    "            image = gr.Image(scale=1)\n",
    "            id.select(get_image,inputs=[id], outputs=[image])\n",
    "            id.select(get_data,inputs=[id], outputs=[info])\n",
    "information.launch(server_port=7881)"
   ]
  },
  {
   "cell_type": "code",
   "execution_count": 7,
   "metadata": {},
   "outputs": [
    {
     "name": "stdout",
     "output_type": "stream",
     "text": [
      "Running on local URL:  http://127.0.0.1:7882\n",
      "\n",
      "To create a public link, set `share=True` in `launch()`.\n"
     ]
    },
    {
     "data": {
      "text/html": [
       "<div><iframe src=\"http://127.0.0.1:7882/\" width=\"100%\" height=\"500\" allow=\"autoplay; camera; microphone; clipboard-read; clipboard-write;\" frameborder=\"0\" allowfullscreen></iframe></div>"
      ],
      "text/plain": [
       "<IPython.core.display.HTML object>"
      ]
     },
     "metadata": {},
     "output_type": "display_data"
    },
    {
     "data": {
      "text/plain": []
     },
     "execution_count": 7,
     "metadata": {},
     "output_type": "execute_result"
    }
   ],
   "source": [
    "worldmap_fig = go.Figure(layout=layout)\n",
    "\n",
    "worldmap_fig.add_trace(go.Choroplethmapbox(geojson=districts_json, \n",
    "                                    locations=np.arange(1,len(districts)+1).tolist(), \n",
    "                                    z=districts.num_buildings,\n",
    "                                    customdata=districts[['name','num_buildings']].values.tolist(),\n",
    "                                    colorscale=[[0, 'rgb(255,255,255)'],[1, 'rgb(255,0,0)']], zauto=True,\n",
    "                                    marker_opacity=0.5, \n",
    "                                    marker_line_width=1, \n",
    "                                    hovertemplate='Province: <a href=\"http://127.0.0.1:7880\" target=\"map\"> %{customdata[0]}</a><br>Num damaged: %{customdata[1]}'))\n",
    "\n",
    "worldmap_fig.update_layout(\n",
    "    mapbox_style=\"open-street-map\",\n",
    "    hovermode='closest',\n",
    "    mapbox=dict(\n",
    "        bearing=0,\n",
    "        center=go.layout.mapbox.Center(\n",
    "            lat= 37,\n",
    "            lon=36\n",
    "        ),\n",
    "        pitch=5,\n",
    "        zoom=3\n",
    "    )\n",
    ")\n",
    "\n",
    "\n",
    "with gr.Blocks() as worldmap:\n",
    "    map = gr.Plot(worldmap_fig)\n",
    "\n",
    "    \n",
    "worldmap.launch(server_port=7882)   \n",
    "#worldmap.launch()"
   ]
  }
 ],
 "metadata": {
  "kernelspec": {
   "display_name": "Python 3",
   "language": "python",
   "name": "python3"
  },
  "language_info": {
   "codemirror_mode": {
    "name": "ipython",
    "version": 3
   },
   "file_extension": ".py",
   "mimetype": "text/x-python",
   "name": "python",
   "nbconvert_exporter": "python",
   "pygments_lexer": "ipython3",
   "version": "3.10.4"
  }
 },
 "nbformat": 4,
 "nbformat_minor": 2
}
