{
 "cells": [
  {
   "cell_type": "code",
   "execution_count": 1,
   "metadata": {},
   "outputs": [],
   "source": [
    "import os\n",
    "import numpy as np\n",
    "from matplotlib import image\n",
    "from shapely.wkt import loads\n",
    "import json\n",
    "import cv2 as cv"
   ]
  },
  {
   "cell_type": "code",
   "execution_count": 2,
   "metadata": {},
   "outputs": [],
   "source": [
    "#these are in the data.zip\n",
    "img_dir = \"./Images\"\n",
    "label_dir = './Json'\n",
    "crop_size = 128\n",
    "n_samples = 100\n",
    "out_dir = './dataset'"
   ]
  },
  {
   "cell_type": "code",
   "execution_count": 3,
   "metadata": {},
   "outputs": [],
   "source": [
    "colours_dict = {'no-damage':[0,1,0],\n",
    "           'minor-damage':[0,1,0],\n",
    "           #this is a little contentious and may not have helped since we're labelling major damage as destroyed to rebalance the classes\n",
    "           'major-damage':[1,0,0],\n",
    "           'destroyed':[1,0,0]\n",
    "           }\n",
    "\n",
    "for _filename in os.listdir(img_dir):\n",
    "    _filename = os.path.splitext(_filename)[0]\n",
    "    if \"post\" in _filename:\n",
    "        _label_file = open(f'{label_dir}/{_filename}.json')\n",
    "        _label_data =json.load(_label_file)\n",
    "        _img = image.imread(f'{img_dir}/{_filename}.png')\n",
    "        _polygons = []\n",
    "        out = np.zeros_like(_img)\n",
    "        out[:,:,-1]=1\n",
    "        #Plotting all of the objects into the output arrays using openCV \n",
    "        for _obj in _label_data['features']['xy']:\n",
    "            _polygon = loads(_obj['wkt'])\n",
    "            _polygons.append(_polygon)\n",
    "            _polygon = np.array(list(_polygon.exterior.coords),dtype=np.int32)\n",
    "            try:\n",
    "                #colour based on damage level\n",
    "                colour = colours_dict[_obj['properties']['subtype']]\n",
    "            except KeyError:\n",
    "                #sometimes the damage label is incorrect\n",
    "                colour = [0,1,0]\n",
    "            out = cv.fillPoly(out,[_polygon],colour)\n",
    "        \n",
    "        #generate a number of croppings from each satellite image\n",
    "        for n in range(n_samples):\n",
    "            x = np.random.randint(0,_img.shape[0]-crop_size) + np.array([0,crop_size])\n",
    "            y = np.random.randint(0,_img.shape[1]-crop_size) + np.array([0,crop_size])\n",
    "            sample = _img[x[0]:x[1],y[0]:y[1]] \n",
    "            mask = out[x[0]:x[1],y[0]:y[1]]\n",
    "            \n",
    "            #rebalancing the data a little bit otherwise a vast majority was empty\n",
    "            if np.sum(mask[:,:,0]) > 0:\n",
    "                image.imsave(f\"{out_dir}/mask/{_filename}_{n}.jpeg\", mask)\n",
    "                image.imsave(f\"{out_dir}/sample/{_filename}_{n}.jpeg\", sample)\n",
    "            else:\n",
    "                if np.random.randint(0,5) < 1: \n",
    "                    image.imsave(f\"{out_dir}/mask/{_filename}_{n}.jpeg\", mask)\n",
    "                    image.imsave(f\"{out_dir}/sample/{_filename}_{n}.jpeg\", sample)"
   ]
  }
 ],
 "metadata": {
  "kernelspec": {
   "display_name": "Python 3",
   "language": "python",
   "name": "python3"
  },
  "language_info": {
   "codemirror_mode": {
    "name": "ipython",
    "version": 3
   },
   "file_extension": ".py",
   "mimetype": "text/x-python",
   "name": "python",
   "nbconvert_exporter": "python",
   "pygments_lexer": "ipython3",
   "version": "3.9.10"
  },
  "orig_nbformat": 4
 },
 "nbformat": 4,
 "nbformat_minor": 2
}
